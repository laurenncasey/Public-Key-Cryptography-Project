{
 "cells": [
  {
   "cell_type": "code",
   "execution_count": null,
   "id": "indian-spending",
   "metadata": {},
   "outputs": [],
   "source": [
    "#Need Python 3 to run. Can import .ipynb notebook into Jupyter Notebook which can be installed. Run top to bottom. "
   ]
  },
  {
   "cell_type": "code",
   "execution_count": null,
   "id": "arabic-alloy",
   "metadata": {},
   "outputs": [],
   "source": [
    "#EXAMPLE PROBLEMS\n",
    "\n",
    "#(1) Using Diffie-Hellman Key Exchange, what key is exchanged when p = 11, g = 3, and you recieve 3^{7} mod 11?\n",
    "#(2) Choose p, g, and a. Determine what the shared key is using DH Key Exchange. \n",
    "#(3) Using RSA, let p = 5, q = 7. Determine what the shared key, d, is.\n",
    "#(4) Using your answer to (3), what does the integer '2' decrypt to?\n",
    "\n",
    "\n",
    "\n",
    "\n",
    "\n",
    "#ANSWERS\n",
    "#(1) 1\n",
    "#(3) 35\n",
    "#(4) 18"
   ]
  },
  {
   "cell_type": "code",
   "execution_count": 28,
   "id": "athletic-lender",
   "metadata": {},
   "outputs": [
    {
     "name": "stdout",
     "output_type": "stream",
     "text": [
      "Input a prime integer value for p  11\n",
      "\n",
      "Input a prime integer value for g  3\n",
      "\n",
      "Input an integer value for a  5\n",
      "\n",
      "Input an integer value for b  7\n",
      "\n",
      "Then by DH Key Exchange, B = g^{b} mod p and A = g^{a} mod p.\n",
      "\n",
      "So B = 9\n",
      "\n",
      "And A = 1\n",
      "\n",
      "Then s (secret key) = B^{a} = A^{b} = 1\n",
      "\n",
      "\n",
      "Great job!\n"
     ]
    }
   ],
   "source": [
    "#DHKE :: Run for Diffie-Hellman Key Exchange Problems\n",
    "\n",
    "#We want to exchange keys. To do so, we must first decide on values for p and g. \n",
    "p = int(input(\"Input a prime integer value for p  \"))\n",
    "g = int(input(\"\\nInput a prime integer value for g  \"))\n",
    "\n",
    "#Then the sender chooses a value of a and the reciever chooses a value of b.\n",
    "a = int(input(\"\\nInput an integer value for a  \"))\n",
    "b = int(input(\"\\nInput an integer value for b  \"))\n",
    "\n",
    "#Then Sender sends to Receiver \"A = g^{a} mod p\"\n",
    "#And Reciever sends to Sender \"B = g^{b} mod p\"\n",
    "print(\"\\nThen by DH Key Exchange, B = g^{b} mod p and A = g^{a} mod p.\")\n",
    "B = int(input(\"\\nSo B = \"))\n",
    "A = int(input(\"\\nAnd A = \"))\n",
    "\n",
    "bAns = pow(g, b) % p\n",
    "aAns = pow(g, a) % p\n",
    "\n",
    "#Then the secret key s is computed on each side. s = B^{a} = A^{b}\n",
    "s = int(input(\"\\nThen s (secret key) = B^{a} mod p = A^{b} mod p = \"))\n",
    "saAns = pow(bAns, a)\n",
    "sbAns = pow(aAns, b)\n",
    "\n",
    "#If the user has inputted the correct values and correctly computed A, B and S, then they have successfully sent a secret key.\n",
    "if((saAns == sbAns) and s != saAns):\n",
    "    print(\"\\n\\nIncorrect. Retry the problem. Compute carefully.\")\n",
    "else:\n",
    "    print(\"\\n\\nGreat job!\")"
   ]
  },
  {
   "cell_type": "code",
   "execution_count": 24,
   "id": "compound-swing",
   "metadata": {},
   "outputs": [
    {
     "name": "stdout",
     "output_type": "stream",
     "text": [
      "Input a prime integer value for p  5\n",
      "\n",
      "Input a prime integer value for q  7\n",
      "\n",
      "Then by RSA, n = pq = 35\n",
      "\n",
      "Then phi(n) = lcm(p-1, q-1) = 12\n",
      "\n",
      "Now pick an e such that 1 < e < phi(n) and gcd(e, phi(n)) = 1    11\n",
      "\n",
      "\n",
      "The secret key to be shared (d) can be computed by an algorithm. Let d = p(pe mod phi(n)). \n",
      "Then d =   35\n"
     ]
    }
   ],
   "source": [
    "#RSA :: Run for RSA Key Exchange Problems\n",
    "\n",
    "#Sender and Reciever agree upon p and g values\n",
    "p = int(input(\"Input a prime integer value for p  \"))\n",
    "g = int(input(\"\\nInput a prime integer value for q  \"))\n",
    "\n",
    "#By RSA, then n and phi(n) are calculated and e is chosen based off of phi(n). \n",
    "n = int(input(\"\\nThen by RSA, n = pq = \"))\n",
    "phin = int(input(\"\\nThen phi(n) = lcm(p-1, q-1) = \"))\n",
    "e = int(input(\"\\nNow pick an e such that 1 < e < phi(n) and gcd(e, phi(n)) = 1    \"))\n",
    "\n",
    "#The secret key, d, is computed using a chosen algorithm. \n",
    "#In our case, we will choose d = p (pe mod phi(n)).\n",
    "d = int(input(\"\\n\\nThe secret key to be shared (d) can be computed by an algorithm. Let d = p(pe mod phi(n)). \\nThen d =   \"))"
   ]
  },
  {
   "cell_type": "code",
   "execution_count": 27,
   "id": "aquatic-swift",
   "metadata": {},
   "outputs": [
    {
     "name": "stdout",
     "output_type": "stream",
     "text": [
      "\n",
      "\n",
      "What single integer value are you decrypting?  2\n",
      "\n",
      "If c^{d} mod n gives you the message (m), then m =   18\n",
      "Correct. Nice Work!\n"
     ]
    }
   ],
   "source": [
    "#RSA :: Run for RSA Decryption Problems after running RSA Key Exchange Code above\n",
    "\n",
    "#You can decrypt a numeric message (c) by c^{d} mod n \n",
    "cipher = int(input(\"\\n\\nWhat single integer value are you decrypting?  \"))\n",
    "m = int(input(\"\\nIf c^{d} mod n gives you the message (m), then m =   \"))\n",
    "corAns = pow(cipher, d) % n\n",
    "\n",
    "\n",
    "\n",
    "if(m == corAns):\n",
    "    print(\"Correct. Nice Work!\")\n",
    "else:\n",
    "    print(\"Try again.\")"
   ]
  },
  {
   "cell_type": "code",
   "execution_count": null,
   "id": "median-comment",
   "metadata": {},
   "outputs": [],
   "source": []
  }
 ],
 "metadata": {
  "kernelspec": {
   "display_name": "Python 3",
   "language": "python",
   "name": "python3"
  },
  "language_info": {
   "codemirror_mode": {
    "name": "ipython",
    "version": 3
   },
   "file_extension": ".py",
   "mimetype": "text/x-python",
   "name": "python",
   "nbconvert_exporter": "python",
   "pygments_lexer": "ipython3",
   "version": "3.9.2"
  }
 },
 "nbformat": 4,
 "nbformat_minor": 5
}
